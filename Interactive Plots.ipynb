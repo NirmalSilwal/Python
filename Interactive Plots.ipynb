{
 "cells": [
  {
   "cell_type": "markdown",
   "metadata": {},
   "source": [
    "# Interactive Plots"
   ]
  },
  {
   "cell_type": "code",
   "execution_count": 1,
   "metadata": {},
   "outputs": [],
   "source": [
    "%matplotlib inline\n",
    "import pandas as pd\n",
    "import numpy as np\n",
    "import matplotlib.pyplot as plt"
   ]
  },
  {
   "cell_type": "code",
   "execution_count": 4,
   "metadata": {},
   "outputs": [],
   "source": [
    "from ipywidgets import interact\n",
    "import ipywidgets as widgets"
   ]
  },
  {
   "cell_type": "code",
   "execution_count": 7,
   "metadata": {},
   "outputs": [
    {
     "data": {
      "application/vnd.jupyter.widget-view+json": {
       "model_id": "dcd653de3e704ca88534706ecc8793d7",
       "version_major": 2,
       "version_minor": 0
      },
      "text/plain": [
       "interactive(children=(IntSlider(value=1, description='x', max=5, min=-5), IntSlider(value=2, description='y', …"
      ]
     },
     "metadata": {},
     "output_type": "display_data"
    }
   ],
   "source": [
    "def f(x=1, y=2):\n",
    "    return y*x\n",
    "interact(f, x=(-5,5), y=(0,10));"
   ]
  },
  {
   "cell_type": "code",
   "execution_count": 9,
   "metadata": {},
   "outputs": [
    {
     "data": {
      "application/vnd.jupyter.widget-view+json": {
       "model_id": "ee95ef062d4e4b6091a3ba6587b506fe",
       "version_major": 2,
       "version_minor": 0
      },
      "text/plain": [
       "interactive(children=(Dropdown(description='x', options=('john', 'mary', 'james'), value='john'), IntSlider(va…"
      ]
     },
     "metadata": {},
     "output_type": "display_data"
    }
   ],
   "source": [
    "interact(f, x=['john', 'mary', 'james'], y=(0,10));"
   ]
  },
  {
   "cell_type": "code",
   "execution_count": 10,
   "metadata": {},
   "outputs": [
    {
     "data": {
      "application/vnd.jupyter.widget-view+json": {
       "model_id": "1d9dccac2fb544f9b47fd4ebd2b4e69b",
       "version_major": 2,
       "version_minor": 0
      },
      "text/plain": [
       "interactive(children=(Dropdown(description='sport1', options=('aquatics', 'archery', 'athletics', 'badminton',…"
      ]
     },
     "metadata": {},
     "output_type": "display_data"
    }
   ],
   "source": [
    "df = pd.read_csv('athletes.csv')\n",
    "def make_plot(sport1, gender1, sport2, gender2):\n",
    "    fig, ax = plt.subplots()\n",
    "    a = df[(df['sex'] == gender1) & (df['sport'] == sport1)]\n",
    "    b = df[(df['sex'] == gender2) & (df['sport'] == sport2)]\n",
    "    a.plot.scatter(ax=ax, x='weight', y='height', \n",
    "                            alpha=.25, color='b', label=sport1 + \", \" + gender1)\n",
    "    b.plot.scatter(ax=ax, x='weight', y='height', \n",
    "                            alpha=.25, color='r', label=sport2 + \", \" + gender2)\n",
    "\n",
    "all_sports = df['sport'].drop_duplicates().sort_values()\n",
    "\n",
    "\n",
    "interact(make_plot, \n",
    "         sport1=all_sports,\n",
    "         gender1=['male', 'female'],\n",
    "         sport2=all_sports,\n",
    "         gender2=['male', 'female']\n",
    "        );"
   ]
  },
  {
   "cell_type": "code",
   "execution_count": 11,
   "metadata": {},
   "outputs": [],
   "source": [
    "medals = df.groupby(['sport', 'nationality'])[['gold', 'silver', 'bronze']].sum()\n",
    "medals.sort_values(['gold'], ascending=False, inplace=True)"
   ]
  },
  {
   "cell_type": "code",
   "execution_count": 14,
   "metadata": {},
   "outputs": [
    {
     "data": {
      "application/vnd.jupyter.widget-view+json": {
       "model_id": "409a83f3c321460181ab7ad201268685",
       "version_major": 2,
       "version_minor": 0
      },
      "text/plain": [
       "interactive(children=(IntSlider(value=5, continuous_update=False, description='n', min=5), Dropdown(descriptio…"
      ]
     },
     "metadata": {},
     "output_type": "display_data"
    }
   ],
   "source": [
    "def make_plot(n=10, sport='aquatics'):   \n",
    "    fig, ax = plt.subplots(figsize=(n,6))  \n",
    "    top = medals\\\n",
    "        .loc[sport]\\\n",
    "        .head(n)\n",
    "    top.plot.bar(color=['gold', 'silver', 'brown'], ax=ax, stacked=True,\n",
    "                rot=45, title=\"Top {} countries in {}\".format(n, sport))\n",
    "    ax.set_ylabel('medals')\n",
    "    \n",
    "interact(make_plot, \n",
    "    n=widgets.IntSlider(min=5,max=100, continuous_update=False),\n",
    "    sport=all_sports);"
   ]
  },
  {
   "cell_type": "code",
   "execution_count": null,
   "metadata": {},
   "outputs": [],
   "source": []
  }
 ],
 "metadata": {
  "kernelspec": {
   "display_name": "Python 3",
   "language": "python",
   "name": "python3"
  },
  "language_info": {
   "codemirror_mode": {
    "name": "ipython",
    "version": 3
   },
   "file_extension": ".py",
   "mimetype": "text/x-python",
   "name": "python",
   "nbconvert_exporter": "python",
   "pygments_lexer": "ipython3",
   "version": "3.6.6"
  }
 },
 "nbformat": 4,
 "nbformat_minor": 2
}
