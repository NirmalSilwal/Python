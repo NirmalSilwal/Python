{
 "cells": [
  {
   "cell_type": "markdown",
   "metadata": {},
   "source": [
    "## 1. pattern"
   ]
  },
  {
   "cell_type": "code",
   "execution_count": 3,
   "metadata": {},
   "outputs": [
    {
     "name": "stdout",
     "output_type": "stream",
     "text": [
      "    * 1 *\n",
      "   ** 2 **\n",
      "  *** 3 ***\n",
      " **** 4 ****\n"
     ]
    }
   ],
   "source": [
    "for i in range(1,5):\n",
    "    print(\" \"*(4-i),\"*\"*i,i,\"*\"*i)"
   ]
  },
  {
   "cell_type": "markdown",
   "metadata": {},
   "source": [
    "## 2. palindrome"
   ]
  },
  {
   "cell_type": "code",
   "execution_count": 40,
   "metadata": {},
   "outputs": [
    {
     "name": "stdout",
     "output_type": "stream",
     "text": [
      "enter number to check palindrome: 123\n",
      "not palindrome\n"
     ]
    }
   ],
   "source": [
    "n=input('enter number to check palindrome: ')\n",
    "if n==''.join(list(n)[::-1]):\n",
    "    print('palindrome')\n",
    "else:\n",
    "    print('not palindrome')"
   ]
  },
  {
   "cell_type": "markdown",
   "metadata": {},
   "source": [
    "#### experiment!"
   ]
  },
  {
   "cell_type": "code",
   "execution_count": 42,
   "metadata": {},
   "outputs": [
    {
     "name": "stdout",
     "output_type": "stream",
     "text": [
      "123\n",
      "321\n"
     ]
    }
   ],
   "source": [
    "# testing code!\n",
    "a='123'\n",
    "b=''.join(list(a)[::-1])\n",
    "print(a)\n",
    "print(b)"
   ]
  },
  {
   "cell_type": "code",
   "execution_count": 38,
   "metadata": {},
   "outputs": [
    {
     "name": "stdout",
     "output_type": "stream",
     "text": [
      "not palindrome\n"
     ]
    }
   ],
   "source": [
    "a='123'\n",
    "b=''.join(list(a)[::-1])\n",
    "if a==b:\n",
    "    print('palindrome')\n",
    "else:\n",
    "    print('not palindrome')"
   ]
  },
  {
   "cell_type": "markdown",
   "metadata": {},
   "source": [
    "## 3. special number"
   ]
  },
  {
   "cell_type": "code",
   "execution_count": 49,
   "metadata": {},
   "outputs": [
    {
     "name": "stdout",
     "output_type": "stream",
     "text": [
      "enter number to check for special or not: 145\n",
      "special number!\n"
     ]
    }
   ],
   "source": [
    "import math\n",
    "n=input('enter number to check for special or not: ')\n",
    "sum = 0\n",
    "for i in list(n):\n",
    "    sum = sum + math.factorial(int(i))\n",
    "if int(n)==sum:\n",
    "    print('special number!')\n",
    "else:\n",
    "    print('not special number!')"
   ]
  },
  {
   "cell_type": "markdown",
   "metadata": {},
   "source": [
    "## 4. lowest and second highest"
   ]
  },
  {
   "cell_type": "code",
   "execution_count": 67,
   "metadata": {},
   "outputs": [
    {
     "name": "stdout",
     "output_type": "stream",
     "text": [
      "enter number5\n",
      "enter number3\n",
      "enter number8\n",
      "given numbers is: [5, 3, 8]\n",
      "lowest is : 3\n",
      "second highest is : 5\n"
     ]
    }
   ],
   "source": [
    "num=[]\n",
    "for i in range(3):\n",
    "    num.append(int(input('enter number')))\n",
    "# sorted(num)\n",
    "print('given numbers is:',num)\n",
    "print('lowest is :',sorted(num)[0] )\n",
    "print('second highest is :',sorted(num)[-2] )"
   ]
  },
  {
   "cell_type": "markdown",
   "metadata": {},
   "source": [
    "## 5. positive, negative, zero counting using lambda"
   ]
  },
  {
   "cell_type": "code",
   "execution_count": 73,
   "metadata": {},
   "outputs": [
    {
     "name": "stdout",
     "output_type": "stream",
     "text": [
      "enter number1\n",
      "enter number2\n",
      "enter number3\n",
      "positive list is: [1, 2, 3]\n",
      "negative list is: []\n",
      "zero list is: []\n"
     ]
    }
   ],
   "source": [
    "num=[]\n",
    "zero=[]\n",
    "pos=[]\n",
    "neg=[]\n",
    "for i in range(3):\n",
    "    num.append(int(input('enter number')))\n",
    "result = lambda x: zero.append(x) if x==0 else pos.append(x) if x>0 else neg.append(x)\n",
    "for i in num:\n",
    "    result(i)\n",
    "print('positive list is:',pos)\n",
    "print('negative list is:',neg)\n",
    "print('zero list is:',zero)"
   ]
  },
  {
   "cell_type": "code",
   "execution_count": 74,
   "metadata": {},
   "outputs": [
    {
     "data": {
      "text/plain": [
       "'C:\\\\Users\\\\admin\\\\Nirmal notebook'"
      ]
     },
     "execution_count": 74,
     "metadata": {},
     "output_type": "execute_result"
    }
   ],
   "source": [
    "pwd"
   ]
  },
  {
   "cell_type": "code",
   "execution_count": null,
   "metadata": {},
   "outputs": [],
   "source": []
  }
 ],
 "metadata": {
  "kernelspec": {
   "display_name": "Python 3",
   "language": "python",
   "name": "python3"
  },
  "language_info": {
   "codemirror_mode": {
    "name": "ipython",
    "version": 3
   },
   "file_extension": ".py",
   "mimetype": "text/x-python",
   "name": "python",
   "nbconvert_exporter": "python",
   "pygments_lexer": "ipython3",
   "version": "3.7.1"
  }
 },
 "nbformat": 4,
 "nbformat_minor": 2
}
