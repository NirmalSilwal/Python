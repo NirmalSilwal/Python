{
 "cells": [
  {
   "cell_type": "markdown",
   "metadata": {},
   "source": [
    "# Interaction and Web Export"
   ]
  },
  {
   "cell_type": "code",
   "execution_count": 1,
   "metadata": {},
   "outputs": [],
   "source": [
    "import pandas as pd\n",
    "from bokeh.plotting import figure, show, ColumnDataSource, output_file\n",
    "from bokeh.palettes import Set2_3 as Colors"
   ]
  },
  {
   "cell_type": "code",
   "execution_count": 2,
   "metadata": {},
   "outputs": [],
   "source": [
    "output_file('sales_app.html')"
   ]
  },
  {
   "cell_type": "code",
   "execution_count": 3,
   "metadata": {},
   "outputs": [
    {
     "data": {
      "text/html": [
       "<div>\n",
       "<style scoped>\n",
       "    .dataframe tbody tr th:only-of-type {\n",
       "        vertical-align: middle;\n",
       "    }\n",
       "\n",
       "    .dataframe tbody tr th {\n",
       "        vertical-align: top;\n",
       "    }\n",
       "\n",
       "    .dataframe thead th {\n",
       "        text-align: right;\n",
       "    }\n",
       "</style>\n",
       "<table border=\"1\" class=\"dataframe\">\n",
       "  <thead>\n",
       "    <tr style=\"text-align: right;\">\n",
       "      <th></th>\n",
       "      <th>m</th>\n",
       "      <th>a</th>\n",
       "      <th>b</th>\n",
       "      <th>c</th>\n",
       "    </tr>\n",
       "  </thead>\n",
       "  <tbody>\n",
       "    <tr>\n",
       "      <th>0</th>\n",
       "      <td>1</td>\n",
       "      <td>7260.0</td>\n",
       "      <td>9258.0</td>\n",
       "      <td>1740.0</td>\n",
       "    </tr>\n",
       "    <tr>\n",
       "      <th>1</th>\n",
       "      <td>2</td>\n",
       "      <td>6534.0</td>\n",
       "      <td>0.0</td>\n",
       "      <td>5000.0</td>\n",
       "    </tr>\n",
       "    <tr>\n",
       "      <th>2</th>\n",
       "      <td>3</td>\n",
       "      <td>7260.0</td>\n",
       "      <td>0.0</td>\n",
       "      <td>2117.0</td>\n",
       "    </tr>\n",
       "    <tr>\n",
       "      <th>3</th>\n",
       "      <td>4</td>\n",
       "      <td>11616.0</td>\n",
       "      <td>13221.0</td>\n",
       "      <td>5440.0</td>\n",
       "    </tr>\n",
       "    <tr>\n",
       "      <th>4</th>\n",
       "      <td>5</td>\n",
       "      <td>7119.0</td>\n",
       "      <td>0.0</td>\n",
       "      <td>2990.0</td>\n",
       "    </tr>\n",
       "    <tr>\n",
       "      <th>5</th>\n",
       "      <td>6</td>\n",
       "      <td>11071.0</td>\n",
       "      <td>0.0</td>\n",
       "      <td>0.0</td>\n",
       "    </tr>\n",
       "    <tr>\n",
       "      <th>6</th>\n",
       "      <td>7</td>\n",
       "      <td>4200.0</td>\n",
       "      <td>15973.0</td>\n",
       "      <td>2901.0</td>\n",
       "    </tr>\n",
       "    <tr>\n",
       "      <th>7</th>\n",
       "      <td>8</td>\n",
       "      <td>10342.0</td>\n",
       "      <td>0.0</td>\n",
       "      <td>1590.0</td>\n",
       "    </tr>\n",
       "    <tr>\n",
       "      <th>8</th>\n",
       "      <td>9</td>\n",
       "      <td>0.0</td>\n",
       "      <td>0.0</td>\n",
       "      <td>660.0</td>\n",
       "    </tr>\n",
       "    <tr>\n",
       "      <th>9</th>\n",
       "      <td>10</td>\n",
       "      <td>2100.0</td>\n",
       "      <td>10711.0</td>\n",
       "      <td>14520.0</td>\n",
       "    </tr>\n",
       "    <tr>\n",
       "      <th>10</th>\n",
       "      <td>11</td>\n",
       "      <td>7260.0</td>\n",
       "      <td>0.0</td>\n",
       "      <td>3710.0</td>\n",
       "    </tr>\n",
       "    <tr>\n",
       "      <th>11</th>\n",
       "      <td>12</td>\n",
       "      <td>11616.0</td>\n",
       "      <td>14800.0</td>\n",
       "      <td>0.0</td>\n",
       "    </tr>\n",
       "  </tbody>\n",
       "</table>\n",
       "</div>"
      ],
      "text/plain": [
       "     m        a        b        c\n",
       "0    1   7260.0   9258.0   1740.0\n",
       "1    2   6534.0      0.0   5000.0\n",
       "2    3   7260.0      0.0   2117.0\n",
       "3    4  11616.0  13221.0   5440.0\n",
       "4    5   7119.0      0.0   2990.0\n",
       "5    6  11071.0      0.0      0.0\n",
       "6    7   4200.0  15973.0   2901.0\n",
       "7    8  10342.0      0.0   1590.0\n",
       "8    9      0.0      0.0    660.0\n",
       "9   10   2100.0  10711.0  14520.0\n",
       "10  11   7260.0      0.0   3710.0\n",
       "11  12  11616.0  14800.0      0.0"
      ]
     },
     "execution_count": 3,
     "metadata": {},
     "output_type": "execute_result"
    }
   ],
   "source": [
    "df = pd.read_csv('monthly_sales.csv')\n",
    "src = ColumnDataSource(df)\n",
    "df"
   ]
  },
  {
   "cell_type": "code",
   "execution_count": 4,
   "metadata": {},
   "outputs": [],
   "source": [
    "p = figure(title=\"Monthly Sales (2017)\", \n",
    "           x_axis_label='Month', y_axis_label='Sales (EUR)',\n",
    "           y_range=(0,20000), plot_width=600, plot_height=400)\n",
    "\n",
    "p.line(source=src, x='m', y='a', legend=\"Product A\", line_width=2, color=Colors[0])\n",
    "p.line(source=src, x='m', y='b', legend=\"Product B\", line_width=2, color=Colors[1])\n",
    "p.line(source=src, x='m', y='c', legend=\"Product C\", line_width=2, color=Colors[2])\n",
    "\n",
    "p.legend.location = 'top_left'\n",
    "\n",
    "from bokeh.models import HoverTool\n",
    "p.add_tools(HoverTool(tooltips= [(\"Month\", \"@m\"),\n",
    "                                 (\"Product a sold\",\"@a\"),\n",
    "                                 (\"Product b sold\",\"@b\"),\n",
    "                                 (\"Product c sold\",\"@c\"),\n",
    "                                ]))\n",
    "\n",
    "show(p)"
   ]
  },
  {
   "cell_type": "code",
   "execution_count": 5,
   "metadata": {},
   "outputs": [
    {
     "data": {
      "text/plain": [
       "'\\n<script type=\"text/javascript\">\\n  (function() {\\n    var fn = function() {\\n      Bokeh.safely(function() {\\n        (function(root) {\\n          function embed_document(root) {\\n            \\n          var docs_json = \\'{\"c3fc7211-7d69-46f9-82ef-d4f7d521b86f\":{\"roots\":{\"references\":[{\"attributes\":{},\"id\":\"845c895b-caf2-4853-99a9-367b6ac66193\",\"type\":\"HelpTool\"},{\"attributes\":{},\"id\":\"3c235f8a-5909-4852-b8ef-33c8fd4f1515\",\"type\":\"BasicTickFormatter\"},{\"attributes\":{},\"id\":\"8b99713a-b606-4c18-a414-21676a5b0b7a\",\"type\":\"BasicTickFormatter\"},{\"attributes\":{\"label\":{\"value\":\"Product A\"},\"renderers\":[{\"id\":\"48a282be-1ea2-499d-89c7-35b79eaa864d\",\"type\":\"GlyphRenderer\"}]},\"id\":\"845a5334-afca-40ed-92f2-501211c3cdef\",\"type\":\"LegendItem\"},{\"attributes\":{\"line_color\":\"#fc8d62\",\"line_width\":2,\"x\":{\"field\":\"m\"},\"y\":{\"field\":\"b\"}},\"id\":\"9e3f15a8-afdd-477d-b5d2-46757fa92e6b\",\"type\":\"Line\"},{\"attributes\":{\"line_alpha\":0.1,\"line_color\":\"#1f77b4\",\"line_width\":2,\"x\":{\"field\":\"m\"},\"y\":{\"field\":\"b\"}},\"id\":\"d0ef5e43-4848-4904-b30c-39be25fd75f6\",\"type\":\"Line\"},{\"attributes\":{\"data_source\":{\"id\":\"2735e9ff-a0ca-42e7-b2f3-48594d86e4cb\",\"type\":\"ColumnDataSource\"},\"glyph\":{\"id\":\"9e3f15a8-afdd-477d-b5d2-46757fa92e6b\",\"type\":\"Line\"},\"hover_glyph\":null,\"muted_glyph\":null,\"nonselection_glyph\":{\"id\":\"d0ef5e43-4848-4904-b30c-39be25fd75f6\",\"type\":\"Line\"},\"selection_glyph\":null,\"view\":{\"id\":\"de4a4d8d-529f-44cd-aa09-a178e24d9b5d\",\"type\":\"CDSView\"}},\"id\":\"30a425ce-f55b-48fc-9274-ecb96d472714\",\"type\":\"GlyphRenderer\"},{\"attributes\":{\"source\":{\"id\":\"2735e9ff-a0ca-42e7-b2f3-48594d86e4cb\",\"type\":\"ColumnDataSource\"}},\"id\":\"de4a4d8d-529f-44cd-aa09-a178e24d9b5d\",\"type\":\"CDSView\"},{\"attributes\":{},\"id\":\"d9f39d7b-99b6-4dc7-b7c8-c0bdeb1cf936\",\"type\":\"UnionRenderers\"},{\"attributes\":{\"label\":{\"value\":\"Product B\"},\"renderers\":[{\"id\":\"30a425ce-f55b-48fc-9274-ecb96d472714\",\"type\":\"GlyphRenderer\"}]},\"id\":\"ae755bb1-9241-4fe4-b0a1-f63fff0ea67d\",\"type\":\"LegendItem\"},{\"attributes\":{\"below\":[{\"id\":\"abb86986-b81d-4419-8649-d60f0766bc76\",\"type\":\"LinearAxis\"}],\"left\":[{\"id\":\"ec74abb4-4162-45f7-ac74-88a8419c6180\",\"type\":\"LinearAxis\"}],\"plot_height\":400,\"renderers\":[{\"id\":\"abb86986-b81d-4419-8649-d60f0766bc76\",\"type\":\"LinearAxis\"},{\"id\":\"8aad3033-5825-4cae-b8ad-517646a69774\",\"type\":\"Grid\"},{\"id\":\"ec74abb4-4162-45f7-ac74-88a8419c6180\",\"type\":\"LinearAxis\"},{\"id\":\"0e24f815-6f21-459b-b2c7-ce8e6329982b\",\"type\":\"Grid\"},{\"id\":\"cf948b0f-7676-4e52-856c-37002d98c5a1\",\"type\":\"BoxAnnotation\"},{\"id\":\"5e035b3c-1176-4b64-b0ad-d8a9dd6afa2b\",\"type\":\"Legend\"},{\"id\":\"48a282be-1ea2-499d-89c7-35b79eaa864d\",\"type\":\"GlyphRenderer\"},{\"id\":\"30a425ce-f55b-48fc-9274-ecb96d472714\",\"type\":\"GlyphRenderer\"},{\"id\":\"a61b34e0-048e-49ec-a26f-99216a30051b\",\"type\":\"GlyphRenderer\"}],\"title\":{\"id\":\"7565814f-6ade-40f5-af05-fc6a0c35c19c\",\"type\":\"Title\"},\"toolbar\":{\"id\":\"c87b1a41-50d1-4a1a-8844-8ed213a10f86\",\"type\":\"Toolbar\"},\"x_range\":{\"id\":\"ec60473c-0e5b-4519-8c40-ed3f3cfc8941\",\"type\":\"DataRange1d\"},\"x_scale\":{\"id\":\"a3557431-7219-45a1-a830-c70ff7f60b49\",\"type\":\"LinearScale\"},\"y_range\":{\"id\":\"9d6b70ce-9068-401c-aecc-b918c9ed7f9b\",\"type\":\"Range1d\"},\"y_scale\":{\"id\":\"f1ba512e-c0b5-4f55-8e6a-438a136a4ab7\",\"type\":\"LinearScale\"}},\"id\":\"f76d5da3-b9d6-44f9-93d9-5ae03412bc45\",\"subtype\":\"Figure\",\"type\":\"Plot\"},{\"attributes\":{\"data_source\":{\"id\":\"2735e9ff-a0ca-42e7-b2f3-48594d86e4cb\",\"type\":\"ColumnDataSource\"},\"glyph\":{\"id\":\"92c560cf-c269-4e4c-9bbe-2796f21a2732\",\"type\":\"Line\"},\"hover_glyph\":null,\"muted_glyph\":null,\"nonselection_glyph\":{\"id\":\"1cf7e003-c3f7-4e0e-85e5-406b2120cfa9\",\"type\":\"Line\"},\"selection_glyph\":null,\"view\":{\"id\":\"3198a3bd-6e4f-4fdb-bc0d-689034a4659f\",\"type\":\"CDSView\"}},\"id\":\"48a282be-1ea2-499d-89c7-35b79eaa864d\",\"type\":\"GlyphRenderer\"},{\"attributes\":{\"line_color\":\"#8da0cb\",\"line_width\":2,\"x\":{\"field\":\"m\"},\"y\":{\"field\":\"c\"}},\"id\":\"9592ccaf-0c92-4e97-aef1-67c429a6c8da\",\"type\":\"Line\"},{\"attributes\":{\"plot\":null,\"text\":\"Monthly Sales (2017)\"},\"id\":\"7565814f-6ade-40f5-af05-fc6a0c35c19c\",\"type\":\"Title\"},{\"attributes\":{\"line_alpha\":0.1,\"line_color\":\"#1f77b4\",\"line_width\":2,\"x\":{\"field\":\"m\"},\"y\":{\"field\":\"c\"}},\"id\":\"b9269a34-40a3-46b6-a865-8d6cd7f9c1cc\",\"type\":\"Line\"},{\"attributes\":{},\"id\":\"c283d418-c44a-4e00-bd32-9f336242744a\",\"type\":\"Selection\"},{\"attributes\":{\"data_source\":{\"id\":\"2735e9ff-a0ca-42e7-b2f3-48594d86e4cb\",\"type\":\"ColumnDataSource\"},\"glyph\":{\"id\":\"9592ccaf-0c92-4e97-aef1-67c429a6c8da\",\"type\":\"Line\"},\"hover_glyph\":null,\"muted_glyph\":null,\"nonselection_glyph\":{\"id\":\"b9269a34-40a3-46b6-a865-8d6cd7f9c1cc\",\"type\":\"Line\"},\"selection_glyph\":null,\"view\":{\"id\":\"294f37e7-d756-41d7-a5f3-8a63245b59a3\",\"type\":\"CDSView\"}},\"id\":\"a61b34e0-048e-49ec-a26f-99216a30051b\",\"type\":\"GlyphRenderer\"},{\"attributes\":{\"callback\":null,\"end\":20000},\"id\":\"9d6b70ce-9068-401c-aecc-b918c9ed7f9b\",\"type\":\"Range1d\"},{\"attributes\":{\"source\":{\"id\":\"2735e9ff-a0ca-42e7-b2f3-48594d86e4cb\",\"type\":\"ColumnDataSource\"}},\"id\":\"294f37e7-d756-41d7-a5f3-8a63245b59a3\",\"type\":\"CDSView\"},{\"attributes\":{},\"id\":\"f1ba512e-c0b5-4f55-8e6a-438a136a4ab7\",\"type\":\"LinearScale\"},{\"attributes\":{\"label\":{\"value\":\"Product C\"},\"renderers\":[{\"id\":\"a61b34e0-048e-49ec-a26f-99216a30051b\",\"type\":\"GlyphRenderer\"}]},\"id\":\"a17e10c8-f041-4453-a87f-7a8dd6a381af\",\"type\":\"LegendItem\"},{\"attributes\":{\"active_drag\":\"auto\",\"active_inspect\":\"auto\",\"active_multi\":null,\"active_scroll\":\"auto\",\"active_tap\":\"auto\",\"tools\":[{\"id\":\"eadb9493-e4c4-465b-97ca-3711ef4205a9\",\"type\":\"PanTool\"},{\"id\":\"484ba7c9-bde1-4f28-8a75-ee29d95bf50a\",\"type\":\"WheelZoomTool\"},{\"id\":\"7526dbf9-13d1-4a62-845e-209f0965a2ec\",\"type\":\"BoxZoomTool\"},{\"id\":\"6aac776b-a79d-4dc9-9435-77450bf0b3ac\",\"type\":\"SaveTool\"},{\"id\":\"d6ae9685-79fa-4aca-bd27-bf106d83540f\",\"type\":\"ResetTool\"},{\"id\":\"845c895b-caf2-4853-99a9-367b6ac66193\",\"type\":\"HelpTool\"},{\"id\":\"86574520-3673-4bad-8333-ef8d105a7319\",\"type\":\"HoverTool\"}]},\"id\":\"c87b1a41-50d1-4a1a-8844-8ed213a10f86\",\"type\":\"Toolbar\"},{\"attributes\":{\"callback\":null,\"renderers\":\"auto\",\"tooltips\":[[\"Month\",\"@m\"],[\"Product a sold\",\"@a\"],[\"Product b sold\",\"@b\"],[\"Product c sold\",\"@c\"]]},\"id\":\"86574520-3673-4bad-8333-ef8d105a7319\",\"type\":\"HoverTool\"},{\"attributes\":{\"items\":[{\"id\":\"845a5334-afca-40ed-92f2-501211c3cdef\",\"type\":\"LegendItem\"},{\"id\":\"ae755bb1-9241-4fe4-b0a1-f63fff0ea67d\",\"type\":\"LegendItem\"},{\"id\":\"a17e10c8-f041-4453-a87f-7a8dd6a381af\",\"type\":\"LegendItem\"}],\"location\":\"top_left\",\"plot\":{\"id\":\"f76d5da3-b9d6-44f9-93d9-5ae03412bc45\",\"subtype\":\"Figure\",\"type\":\"Plot\"}},\"id\":\"5e035b3c-1176-4b64-b0ad-d8a9dd6afa2b\",\"type\":\"Legend\"},{\"attributes\":{\"line_color\":\"#66c2a5\",\"line_width\":2,\"x\":{\"field\":\"m\"},\"y\":{\"field\":\"a\"}},\"id\":\"92c560cf-c269-4e4c-9bbe-2796f21a2732\",\"type\":\"Line\"},{\"attributes\":{\"plot\":{\"id\":\"f76d5da3-b9d6-44f9-93d9-5ae03412bc45\",\"subtype\":\"Figure\",\"type\":\"Plot\"},\"ticker\":{\"id\":\"bae0dd7a-dc8a-4b61-9fd6-bce6a96b7bb7\",\"type\":\"BasicTicker\"}},\"id\":\"8aad3033-5825-4cae-b8ad-517646a69774\",\"type\":\"Grid\"},{\"attributes\":{\"axis_label\":\"Month\",\"formatter\":{\"id\":\"8b99713a-b606-4c18-a414-21676a5b0b7a\",\"type\":\"BasicTickFormatter\"},\"plot\":{\"id\":\"f76d5da3-b9d6-44f9-93d9-5ae03412bc45\",\"subtype\":\"Figure\",\"type\":\"Plot\"},\"ticker\":{\"id\":\"bae0dd7a-dc8a-4b61-9fd6-bce6a96b7bb7\",\"type\":\"BasicTicker\"}},\"id\":\"abb86986-b81d-4419-8649-d60f0766bc76\",\"type\":\"LinearAxis\"},{\"attributes\":{},\"id\":\"6aac776b-a79d-4dc9-9435-77450bf0b3ac\",\"type\":\"SaveTool\"},{\"attributes\":{},\"id\":\"bae0dd7a-dc8a-4b61-9fd6-bce6a96b7bb7\",\"type\":\"BasicTicker\"},{\"attributes\":{\"axis_label\":\"Sales (EUR)\",\"formatter\":{\"id\":\"3c235f8a-5909-4852-b8ef-33c8fd4f1515\",\"type\":\"BasicTickFormatter\"},\"plot\":{\"id\":\"f76d5da3-b9d6-44f9-93d9-5ae03412bc45\",\"subtype\":\"Figure\",\"type\":\"Plot\"},\"ticker\":{\"id\":\"2e655e20-a509-43af-ba16-1fbda1a78d39\",\"type\":\"BasicTicker\"}},\"id\":\"ec74abb4-4162-45f7-ac74-88a8419c6180\",\"type\":\"LinearAxis\"},{\"attributes\":{},\"id\":\"2e655e20-a509-43af-ba16-1fbda1a78d39\",\"type\":\"BasicTicker\"},{\"attributes\":{\"dimension\":1,\"plot\":{\"id\":\"f76d5da3-b9d6-44f9-93d9-5ae03412bc45\",\"subtype\":\"Figure\",\"type\":\"Plot\"},\"ticker\":{\"id\":\"2e655e20-a509-43af-ba16-1fbda1a78d39\",\"type\":\"BasicTicker\"}},\"id\":\"0e24f815-6f21-459b-b2c7-ce8e6329982b\",\"type\":\"Grid\"},{\"attributes\":{\"bottom_units\":\"screen\",\"fill_alpha\":{\"value\":0.5},\"fill_color\":{\"value\":\"lightgrey\"},\"left_units\":\"screen\",\"level\":\"overlay\",\"line_alpha\":{\"value\":1.0},\"line_color\":{\"value\":\"black\"},\"line_dash\":[4,4],\"line_width\":{\"value\":2},\"plot\":null,\"render_mode\":\"css\",\"right_units\":\"screen\",\"top_units\":\"screen\"},\"id\":\"cf948b0f-7676-4e52-856c-37002d98c5a1\",\"type\":\"BoxAnnotation\"},{\"attributes\":{\"line_alpha\":0.1,\"line_color\":\"#1f77b4\",\"line_width\":2,\"x\":{\"field\":\"m\"},\"y\":{\"field\":\"a\"}},\"id\":\"1cf7e003-c3f7-4e0e-85e5-406b2120cfa9\",\"type\":\"Line\"},{\"attributes\":{},\"id\":\"eadb9493-e4c4-465b-97ca-3711ef4205a9\",\"type\":\"PanTool\"},{\"attributes\":{\"source\":{\"id\":\"2735e9ff-a0ca-42e7-b2f3-48594d86e4cb\",\"type\":\"ColumnDataSource\"}},\"id\":\"3198a3bd-6e4f-4fdb-bc0d-689034a4659f\",\"type\":\"CDSView\"},{\"attributes\":{},\"id\":\"484ba7c9-bde1-4f28-8a75-ee29d95bf50a\",\"type\":\"WheelZoomTool\"},{\"attributes\":{\"callback\":null,\"data\":{\"a\":{\"__ndarray__\":\"AAAAAABcvEAAAAAAAIa5QAAAAAAAXLxAAAAAAACwxkAAAAAAAM+7QAAAAACAn8VAAAAAAABosEAAAAAAADPEQAAAAAAAAAAAAAAAAABooEAAAAAAAFy8QAAAAAAAsMZA\",\"dtype\":\"float64\",\"shape\":[12]},\"b\":{\"__ndarray__\":\"AAAAAAAVwkAAAAAAAAAAAAAAAAAAAAAAAAAAAIDSyUAAAAAAAAAAAAAAAAAAAAAAAAAAAIAyz0AAAAAAAAAAAAAAAAAAAAAAAAAAAIDrxEAAAAAAAAAAAAAAAAAA6MxA\",\"dtype\":\"float64\",\"shape\":[12]},\"c\":{\"__ndarray__\":\"AAAAAAAwm0AAAAAAAIizQAAAAAAAiqBAAAAAAABAtUAAAAAAAFynQAAAAAAAAAAAAAAAAACqpkAAAAAAANiYQAAAAAAAoIRAAAAAAABczEAAAAAAAPysQAAAAAAAAAAA\",\"dtype\":\"float64\",\"shape\":[12]},\"index\":[0,1,2,3,4,5,6,7,8,9,10,11],\"m\":[1,2,3,4,5,6,7,8,9,10,11,12]},\"selected\":{\"id\":\"c283d418-c44a-4e00-bd32-9f336242744a\",\"type\":\"Selection\"},\"selection_policy\":{\"id\":\"d9f39d7b-99b6-4dc7-b7c8-c0bdeb1cf936\",\"type\":\"UnionRenderers\"}},\"id\":\"2735e9ff-a0ca-42e7-b2f3-48594d86e4cb\",\"type\":\"ColumnDataSource\"},{\"attributes\":{\"callback\":null},\"id\":\"ec60473c-0e5b-4519-8c40-ed3f3cfc8941\",\"type\":\"DataRange1d\"},{\"attributes\":{\"overlay\":{\"id\":\"cf948b0f-7676-4e52-856c-37002d98c5a1\",\"type\":\"BoxAnnotation\"}},\"id\":\"7526dbf9-13d1-4a62-845e-209f0965a2ec\",\"type\":\"BoxZoomTool\"},{\"attributes\":{},\"id\":\"a3557431-7219-45a1-a830-c70ff7f60b49\",\"type\":\"LinearScale\"},{\"attributes\":{},\"id\":\"d6ae9685-79fa-4aca-bd27-bf106d83540f\",\"type\":\"ResetTool\"}],\"root_ids\":[\"f76d5da3-b9d6-44f9-93d9-5ae03412bc45\"]},\"title\":\"Bokeh Application\",\"version\":\"0.13.0\"}}\\';\\n          var render_items = [{\"docid\":\"c3fc7211-7d69-46f9-82ef-d4f7d521b86f\",\"roots\":{\"f76d5da3-b9d6-44f9-93d9-5ae03412bc45\":\"e38dcae8-4c3b-427c-be8c-052b8687d493\"}}];\\n          root.Bokeh.embed.embed_items(docs_json, render_items);\\n        \\n          }\\n          if (root.Bokeh !== undefined) {\\n            embed_document(root);\\n          } else {\\n            var attempts = 0;\\n            var timer = setInterval(function(root) {\\n              if (root.Bokeh !== undefined) {\\n                embed_document(root);\\n                clearInterval(timer);\\n              }\\n              attempts++;\\n              if (attempts > 100) {\\n                console.log(\"Bokeh: ERROR: Unable to run BokehJS code because BokehJS library is missing\")\\n                clearInterval(timer);\\n              }\\n            }, 10, root)\\n          }\\n        })(window);\\n      });\\n    };\\n    if (document.readyState != \"loading\") fn();\\n    else document.addEventListener(\"DOMContentLoaded\", fn);\\n  })();\\n</script>'"
      ]
     },
     "execution_count": 5,
     "metadata": {},
     "output_type": "execute_result"
    }
   ],
   "source": [
    "from bokeh.embed import components\n",
    "script, div = components(p)\n",
    "script"
   ]
  },
  {
   "cell_type": "code",
   "execution_count": 6,
   "metadata": {},
   "outputs": [
    {
     "data": {
      "text/plain": [
       "'\\n<div class=\"bk-root\" id=\"e38dcae8-4c3b-427c-be8c-052b8687d493\"></div>'"
      ]
     },
     "execution_count": 6,
     "metadata": {},
     "output_type": "execute_result"
    }
   ],
   "source": [
    "div"
   ]
  },
  {
   "cell_type": "code",
   "execution_count": null,
   "metadata": {},
   "outputs": [],
   "source": []
  }
 ],
 "metadata": {
  "kernelspec": {
   "display_name": "Python 3",
   "language": "python",
   "name": "python3"
  },
  "language_info": {
   "codemirror_mode": {
    "name": "ipython",
    "version": 3
   },
   "file_extension": ".py",
   "mimetype": "text/x-python",
   "name": "python",
   "nbconvert_exporter": "python",
   "pygments_lexer": "ipython3",
   "version": "3.6.6"
  }
 },
 "nbformat": 4,
 "nbformat_minor": 2
}
